{
 "cells": [
  {
   "cell_type": "code",
   "execution_count": 51,
   "id": "1b588783-7854-4461-b1a0-3262f9398213",
   "metadata": {},
   "outputs": [],
   "source": [
    "import numpy as np\n",
    "import pandas as pd\n",
    "import matplotlib.pyplot as plt\n",
    "from keras.models import load_model\n",
    "import streamlit as st\n",
    "import datetime as dt\n",
    "import yfinance as yf"
   ]
  },
  {
   "cell_type": "code",
   "execution_count": 52,
   "id": "acf72fd4-1b99-4655-9e66-a1da9d63e139",
   "metadata": {},
   "outputs": [
    {
     "data": {
      "text/html": [
       "<div>\n",
       "<style scoped>\n",
       "    .dataframe tbody tr th:only-of-type {\n",
       "        vertical-align: middle;\n",
       "    }\n",
       "\n",
       "    .dataframe tbody tr th {\n",
       "        vertical-align: top;\n",
       "    }\n",
       "\n",
       "    .dataframe thead th {\n",
       "        text-align: right;\n",
       "    }\n",
       "</style>\n",
       "<table border=\"1\" class=\"dataframe\">\n",
       "  <thead>\n",
       "    <tr style=\"text-align: right;\">\n",
       "      <th></th>\n",
       "      <th>Open</th>\n",
       "      <th>High</th>\n",
       "      <th>Low</th>\n",
       "      <th>Close</th>\n",
       "      <th>Adj Close</th>\n",
       "      <th>Volume</th>\n",
       "    </tr>\n",
       "    <tr>\n",
       "      <th>Date</th>\n",
       "      <th></th>\n",
       "      <th></th>\n",
       "      <th></th>\n",
       "      <th></th>\n",
       "      <th></th>\n",
       "      <th></th>\n",
       "    </tr>\n",
       "  </thead>\n",
       "  <tbody>\n",
       "    <tr>\n",
       "      <th>2000-01-03</th>\n",
       "      <td>22.267092</td>\n",
       "      <td>22.988886</td>\n",
       "      <td>22.101974</td>\n",
       "      <td>22.988886</td>\n",
       "      <td>16.110508</td>\n",
       "      <td>25152894</td>\n",
       "    </tr>\n",
       "    <tr>\n",
       "      <th>2000-01-04</th>\n",
       "      <td>22.988886</td>\n",
       "      <td>24.720245</td>\n",
       "      <td>22.535995</td>\n",
       "      <td>24.446625</td>\n",
       "      <td>17.132086</td>\n",
       "      <td>47648560</td>\n",
       "    </tr>\n",
       "    <tr>\n",
       "      <th>2000-01-05</th>\n",
       "      <td>23.493668</td>\n",
       "      <td>24.974997</td>\n",
       "      <td>23.116261</td>\n",
       "      <td>23.441774</td>\n",
       "      <td>16.427893</td>\n",
       "      <td>36396207</td>\n",
       "    </tr>\n",
       "    <tr>\n",
       "      <th>2000-01-06</th>\n",
       "      <td>23.776726</td>\n",
       "      <td>25.286358</td>\n",
       "      <td>23.776726</td>\n",
       "      <td>24.625893</td>\n",
       "      <td>17.257717</td>\n",
       "      <td>70573968</td>\n",
       "    </tr>\n",
       "    <tr>\n",
       "      <th>2000-01-07</th>\n",
       "      <td>24.673071</td>\n",
       "      <td>26.409147</td>\n",
       "      <td>24.059780</td>\n",
       "      <td>25.786425</td>\n",
       "      <td>18.071014</td>\n",
       "      <td>83453217</td>\n",
       "    </tr>\n",
       "  </tbody>\n",
       "</table>\n",
       "</div>"
      ],
      "text/plain": [
       "                 Open       High        Low      Close  Adj Close    Volume\n",
       "Date                                                                       \n",
       "2000-01-03  22.267092  22.988886  22.101974  22.988886  16.110508  25152894\n",
       "2000-01-04  22.988886  24.720245  22.535995  24.446625  17.132086  47648560\n",
       "2000-01-05  23.493668  24.974997  23.116261  23.441774  16.427893  36396207\n",
       "2000-01-06  23.776726  25.286358  23.776726  24.625893  17.257717  70573968\n",
       "2000-01-07  24.673071  26.409147  24.059780  25.786425  18.071014  83453217"
      ]
     },
     "execution_count": 52,
     "metadata": {},
     "output_type": "execute_result"
    }
   ],
   "source": [
    "STOCK = st.sidebar.text_input(\"Enter Stock Ticker\", 'SBIN.NS')\n",
    "start_date = st.sidebar.date_input(\"Enter Start Date\", dt.date(2000,1,1))\n",
    "end_date = st.sidebar.date_input(\"Enter End Date\", dt.datetime.now().date())\n",
    "df = yf.download(STOCK,start=start_date, end=end_date, progress=False)\n",
    "df.head()"
   ]
  },
  {
   "cell_type": "code",
   "execution_count": 53,
   "id": "a0537691-92a1-44fd-8f1e-c2ae7d5c5c04",
   "metadata": {},
   "outputs": [
    {
     "data": {
      "text/html": [
       "<div>\n",
       "<style scoped>\n",
       "    .dataframe tbody tr th:only-of-type {\n",
       "        vertical-align: middle;\n",
       "    }\n",
       "\n",
       "    .dataframe tbody tr th {\n",
       "        vertical-align: top;\n",
       "    }\n",
       "\n",
       "    .dataframe thead th {\n",
       "        text-align: right;\n",
       "    }\n",
       "</style>\n",
       "<table border=\"1\" class=\"dataframe\">\n",
       "  <thead>\n",
       "    <tr style=\"text-align: right;\">\n",
       "      <th></th>\n",
       "      <th>Open</th>\n",
       "      <th>High</th>\n",
       "      <th>Low</th>\n",
       "      <th>Close</th>\n",
       "      <th>Adj Close</th>\n",
       "      <th>Volume</th>\n",
       "    </tr>\n",
       "    <tr>\n",
       "      <th>Date</th>\n",
       "      <th></th>\n",
       "      <th></th>\n",
       "      <th></th>\n",
       "      <th></th>\n",
       "      <th></th>\n",
       "      <th></th>\n",
       "    </tr>\n",
       "  </thead>\n",
       "  <tbody>\n",
       "    <tr>\n",
       "      <th>2023-12-22</th>\n",
       "      <td>644.750000</td>\n",
       "      <td>649.400024</td>\n",
       "      <td>635.150024</td>\n",
       "      <td>636.750000</td>\n",
       "      <td>636.750000</td>\n",
       "      <td>14998068</td>\n",
       "    </tr>\n",
       "    <tr>\n",
       "      <th>2023-12-26</th>\n",
       "      <td>638.849976</td>\n",
       "      <td>641.299988</td>\n",
       "      <td>635.650024</td>\n",
       "      <td>638.049988</td>\n",
       "      <td>638.049988</td>\n",
       "      <td>10153089</td>\n",
       "    </tr>\n",
       "    <tr>\n",
       "      <th>2023-12-27</th>\n",
       "      <td>640.750000</td>\n",
       "      <td>649.450012</td>\n",
       "      <td>639.000000</td>\n",
       "      <td>648.549988</td>\n",
       "      <td>648.549988</td>\n",
       "      <td>14417646</td>\n",
       "    </tr>\n",
       "    <tr>\n",
       "      <th>2023-12-28</th>\n",
       "      <td>650.250000</td>\n",
       "      <td>653.299988</td>\n",
       "      <td>646.500000</td>\n",
       "      <td>651.400024</td>\n",
       "      <td>651.400024</td>\n",
       "      <td>16982092</td>\n",
       "    </tr>\n",
       "    <tr>\n",
       "      <th>2023-12-29</th>\n",
       "      <td>645.500000</td>\n",
       "      <td>649.599976</td>\n",
       "      <td>639.549988</td>\n",
       "      <td>642.049988</td>\n",
       "      <td>642.049988</td>\n",
       "      <td>13221898</td>\n",
       "    </tr>\n",
       "  </tbody>\n",
       "</table>\n",
       "</div>"
      ],
      "text/plain": [
       "                  Open        High         Low       Close   Adj Close  \\\n",
       "Date                                                                     \n",
       "2023-12-22  644.750000  649.400024  635.150024  636.750000  636.750000   \n",
       "2023-12-26  638.849976  641.299988  635.650024  638.049988  638.049988   \n",
       "2023-12-27  640.750000  649.450012  639.000000  648.549988  648.549988   \n",
       "2023-12-28  650.250000  653.299988  646.500000  651.400024  651.400024   \n",
       "2023-12-29  645.500000  649.599976  639.549988  642.049988  642.049988   \n",
       "\n",
       "              Volume  \n",
       "Date                  \n",
       "2023-12-22  14998068  \n",
       "2023-12-26  10153089  \n",
       "2023-12-27  14417646  \n",
       "2023-12-28  16982092  \n",
       "2023-12-29  13221898  "
      ]
     },
     "execution_count": 53,
     "metadata": {},
     "output_type": "execute_result"
    }
   ],
   "source": [
    "df.tail()"
   ]
  },
  {
   "cell_type": "code",
   "execution_count": 54,
   "id": "a69a8c16-828f-48d2-ab63-1c045cd33b68",
   "metadata": {},
   "outputs": [
    {
     "data": {
      "text/html": [
       "<div>\n",
       "<style scoped>\n",
       "    .dataframe tbody tr th:only-of-type {\n",
       "        vertical-align: middle;\n",
       "    }\n",
       "\n",
       "    .dataframe tbody tr th {\n",
       "        vertical-align: top;\n",
       "    }\n",
       "\n",
       "    .dataframe thead th {\n",
       "        text-align: right;\n",
       "    }\n",
       "</style>\n",
       "<table border=\"1\" class=\"dataframe\">\n",
       "  <thead>\n",
       "    <tr style=\"text-align: right;\">\n",
       "      <th></th>\n",
       "      <th>Open</th>\n",
       "      <th>High</th>\n",
       "      <th>Low</th>\n",
       "      <th>Close</th>\n",
       "      <th>Adj Close</th>\n",
       "      <th>Volume</th>\n",
       "    </tr>\n",
       "  </thead>\n",
       "  <tbody>\n",
       "    <tr>\n",
       "      <th>count</th>\n",
       "      <td>5991.000000</td>\n",
       "      <td>5991.000000</td>\n",
       "      <td>5991.000000</td>\n",
       "      <td>5991.000000</td>\n",
       "      <td>5991.000000</td>\n",
       "      <td>5.991000e+03</td>\n",
       "    </tr>\n",
       "    <tr>\n",
       "      <th>mean</th>\n",
       "      <td>205.961412</td>\n",
       "      <td>208.684320</td>\n",
       "      <td>202.897368</td>\n",
       "      <td>205.684955</td>\n",
       "      <td>189.967465</td>\n",
       "      <td>2.333482e+07</td>\n",
       "    </tr>\n",
       "    <tr>\n",
       "      <th>std</th>\n",
       "      <td>149.196955</td>\n",
       "      <td>150.584165</td>\n",
       "      <td>147.543348</td>\n",
       "      <td>149.035892</td>\n",
       "      <td>148.194809</td>\n",
       "      <td>1.857304e+07</td>\n",
       "    </tr>\n",
       "    <tr>\n",
       "      <th>min</th>\n",
       "      <td>13.478195</td>\n",
       "      <td>13.959390</td>\n",
       "      <td>13.214009</td>\n",
       "      <td>13.346102</td>\n",
       "      <td>9.799649</td>\n",
       "      <td>0.000000e+00</td>\n",
       "    </tr>\n",
       "    <tr>\n",
       "      <th>25%</th>\n",
       "      <td>75.576019</td>\n",
       "      <td>76.684658</td>\n",
       "      <td>74.167812</td>\n",
       "      <td>75.660938</td>\n",
       "      <td>61.071718</td>\n",
       "      <td>1.221786e+07</td>\n",
       "    </tr>\n",
       "    <tr>\n",
       "      <th>50%</th>\n",
       "      <td>202.005005</td>\n",
       "      <td>205.000000</td>\n",
       "      <td>198.199997</td>\n",
       "      <td>201.899994</td>\n",
       "      <td>181.211777</td>\n",
       "      <td>1.850035e+07</td>\n",
       "    </tr>\n",
       "    <tr>\n",
       "      <th>75%</th>\n",
       "      <td>276.152512</td>\n",
       "      <td>279.550003</td>\n",
       "      <td>272.574997</td>\n",
       "      <td>275.724991</td>\n",
       "      <td>258.949600</td>\n",
       "      <td>2.866711e+07</td>\n",
       "    </tr>\n",
       "    <tr>\n",
       "      <th>max</th>\n",
       "      <td>658.700012</td>\n",
       "      <td>660.400024</td>\n",
       "      <td>646.500000</td>\n",
       "      <td>655.400024</td>\n",
       "      <td>655.400024</td>\n",
       "      <td>2.626771e+08</td>\n",
       "    </tr>\n",
       "  </tbody>\n",
       "</table>\n",
       "</div>"
      ],
      "text/plain": [
       "              Open         High          Low        Close    Adj Close  \\\n",
       "count  5991.000000  5991.000000  5991.000000  5991.000000  5991.000000   \n",
       "mean    205.961412   208.684320   202.897368   205.684955   189.967465   \n",
       "std     149.196955   150.584165   147.543348   149.035892   148.194809   \n",
       "min      13.478195    13.959390    13.214009    13.346102     9.799649   \n",
       "25%      75.576019    76.684658    74.167812    75.660938    61.071718   \n",
       "50%     202.005005   205.000000   198.199997   201.899994   181.211777   \n",
       "75%     276.152512   279.550003   272.574997   275.724991   258.949600   \n",
       "max     658.700012   660.400024   646.500000   655.400024   655.400024   \n",
       "\n",
       "             Volume  \n",
       "count  5.991000e+03  \n",
       "mean   2.333482e+07  \n",
       "std    1.857304e+07  \n",
       "min    0.000000e+00  \n",
       "25%    1.221786e+07  \n",
       "50%    1.850035e+07  \n",
       "75%    2.866711e+07  \n",
       "max    2.626771e+08  "
      ]
     },
     "execution_count": 54,
     "metadata": {},
     "output_type": "execute_result"
    }
   ],
   "source": [
    "df.describe()"
   ]
  },
  {
   "cell_type": "code",
   "execution_count": 55,
   "id": "23274380-d89c-4668-973e-4b3f8d1f75ba",
   "metadata": {},
   "outputs": [
    {
     "data": {
      "text/plain": [
       "[<matplotlib.lines.Line2D at 0x7f921e344dd0>]"
      ]
     },
     "execution_count": 55,
     "metadata": {},
     "output_type": "execute_result"
    },
    {
     "data": {
      "image/png": "[encoded data removed]",
      "text/plain": [
       "<Figure size 640x480 with 1 Axes>"
      ]
     },
     "metadata": {},
     "output_type": "display_data"
    }
   ],
   "source": [
    "plt.plot(df.Close)"
   ]
  },
  {
   "cell_type": "code",
   "execution_count": 56,
   "id": "b0be74db-5406-4d59-86b0-df007b405956",
   "metadata": {},
   "outputs": [
    {
     "name": "stdout",
     "output_type": "stream",
     "text": [
      "<class 'pandas.core.frame.DataFrame'>\n",
      "DatetimeIndex: 5991 entries, 2000-01-03 to 2023-12-29\n",
      "Data columns (total 6 columns):\n",
      " #   Column     Non-Null Count  Dtype  \n",
      "---  ------     --------------  -----  \n",
      " 0   Open       5991 non-null   float64\n",
      " 1   High       5991 non-null   float64\n",
      " 2   Low        5991 non-null   float64\n",
      " 3   Close      5991 non-null   float64\n",
      " 4   Adj Close  5991 non-null   float64\n",
      " 5   Volume     5991 non-null   int64  \n",
      "dtypes: float64(5), int64(1)\n",
      "memory usage: 327.6 KB\n"
     ]
    }
   ],
   "source": [
    "df.info()"
   ]
  },
  {
   "cell_type": "code",
   "execution_count": 57,
   "id": "f9ec7529-b9f4-43f6-aed7-a56aaed63b25",
   "metadata": {},
   "outputs": [
    {
     "data": {
      "text/html": [
       "<div>\n",
       "<style scoped>\n",
       "    .dataframe tbody tr th:only-of-type {\n",
       "        vertical-align: middle;\n",
       "    }\n",
       "\n",
       "    .dataframe tbody tr th {\n",
       "        vertical-align: top;\n",
       "    }\n",
       "\n",
       "    .dataframe thead th {\n",
       "        text-align: right;\n",
       "    }\n",
       "</style>\n",
       "<table border=\"1\" class=\"dataframe\">\n",
       "  <thead>\n",
       "    <tr style=\"text-align: right;\">\n",
       "      <th></th>\n",
       "      <th>Open</th>\n",
       "      <th>High</th>\n",
       "      <th>Low</th>\n",
       "      <th>Close</th>\n",
       "      <th>Adj Close</th>\n",
       "      <th>Volume</th>\n",
       "    </tr>\n",
       "    <tr>\n",
       "      <th>Date</th>\n",
       "      <th></th>\n",
       "      <th></th>\n",
       "      <th></th>\n",
       "      <th></th>\n",
       "      <th></th>\n",
       "      <th></th>\n",
       "    </tr>\n",
       "  </thead>\n",
       "  <tbody>\n",
       "    <tr>\n",
       "      <th>2000-01-03</th>\n",
       "      <td>22.267092</td>\n",
       "      <td>22.988886</td>\n",
       "      <td>22.101974</td>\n",
       "      <td>22.988886</td>\n",
       "      <td>16.110508</td>\n",
       "      <td>25152894</td>\n",
       "    </tr>\n",
       "    <tr>\n",
       "      <th>2000-01-04</th>\n",
       "      <td>22.988886</td>\n",
       "      <td>24.720245</td>\n",
       "      <td>22.535995</td>\n",
       "      <td>24.446625</td>\n",
       "      <td>17.132086</td>\n",
       "      <td>47648560</td>\n",
       "    </tr>\n",
       "    <tr>\n",
       "      <th>2000-01-05</th>\n",
       "      <td>23.493668</td>\n",
       "      <td>24.974997</td>\n",
       "      <td>23.116261</td>\n",
       "      <td>23.441774</td>\n",
       "      <td>16.427893</td>\n",
       "      <td>36396207</td>\n",
       "    </tr>\n",
       "    <tr>\n",
       "      <th>2000-01-06</th>\n",
       "      <td>23.776726</td>\n",
       "      <td>25.286358</td>\n",
       "      <td>23.776726</td>\n",
       "      <td>24.625893</td>\n",
       "      <td>17.257717</td>\n",
       "      <td>70573968</td>\n",
       "    </tr>\n",
       "    <tr>\n",
       "      <th>2000-01-07</th>\n",
       "      <td>24.673071</td>\n",
       "      <td>26.409147</td>\n",
       "      <td>24.059780</td>\n",
       "      <td>25.786425</td>\n",
       "      <td>18.071014</td>\n",
       "      <td>83453217</td>\n",
       "    </tr>\n",
       "    <tr>\n",
       "      <th>...</th>\n",
       "      <td>...</td>\n",
       "      <td>...</td>\n",
       "      <td>...</td>\n",
       "      <td>...</td>\n",
       "      <td>...</td>\n",
       "      <td>...</td>\n",
       "    </tr>\n",
       "    <tr>\n",
       "      <th>2023-12-22</th>\n",
       "      <td>644.750000</td>\n",
       "      <td>649.400024</td>\n",
       "      <td>635.150024</td>\n",
       "      <td>636.750000</td>\n",
       "      <td>636.750000</td>\n",
       "      <td>14998068</td>\n",
       "    </tr>\n",
       "    <tr>\n",
       "      <th>2023-12-26</th>\n",
       "      <td>638.849976</td>\n",
       "      <td>641.299988</td>\n",
       "      <td>635.650024</td>\n",
       "      <td>638.049988</td>\n",
       "      <td>638.049988</td>\n",
       "      <td>10153089</td>\n",
       "    </tr>\n",
       "    <tr>\n",
       "      <th>2023-12-27</th>\n",
       "      <td>640.750000</td>\n",
       "      <td>649.450012</td>\n",
       "      <td>639.000000</td>\n",
       "      <td>648.549988</td>\n",
       "      <td>648.549988</td>\n",
       "      <td>14417646</td>\n",
       "    </tr>\n",
       "    <tr>\n",
       "      <th>2023-12-28</th>\n",
       "      <td>650.250000</td>\n",
       "      <td>653.299988</td>\n",
       "      <td>646.500000</td>\n",
       "      <td>651.400024</td>\n",
       "      <td>651.400024</td>\n",
       "      <td>16982092</td>\n",
       "    </tr>\n",
       "    <tr>\n",
       "      <th>2023-12-29</th>\n",
       "      <td>645.500000</td>\n",
       "      <td>649.599976</td>\n",
       "      <td>639.549988</td>\n",
       "      <td>642.049988</td>\n",
       "      <td>642.049988</td>\n",
       "      <td>13221898</td>\n",
       "    </tr>\n",
       "  </tbody>\n",
       "</table>\n",
       "<p>5991 rows × 6 columns</p>\n",
       "</div>"
      ],
      "text/plain": [
       "                  Open        High         Low       Close   Adj Close  \\\n",
       "Date                                                                     \n",
       "2000-01-03   22.267092   22.988886   22.101974   22.988886   16.110508   \n",
       "2000-01-04   22.988886   24.720245   22.535995   24.446625   17.132086   \n",
       "2000-01-05   23.493668   24.974997   23.116261   23.441774   16.427893   \n",
       "2000-01-06   23.776726   25.286358   23.776726   24.625893   17.257717   \n",
       "2000-01-07   24.673071   26.409147   24.059780   25.786425   18.071014   \n",
       "...                ...         ...         ...         ...         ...   \n",
       "2023-12-22  644.750000  649.400024  635.150024  636.750000  636.750000   \n",
       "2023-12-26  638.849976  641.299988  635.650024  638.049988  638.049988   \n",
       "2023-12-27  640.750000  649.450012  639.000000  648.549988  648.549988   \n",
       "2023-12-28  650.250000  653.299988  646.500000  651.400024  651.400024   \n",
       "2023-12-29  645.500000  649.599976  639.549988  642.049988  642.049988   \n",
       "\n",
       "              Volume  \n",
       "Date                  \n",
       "2000-01-03  25152894  \n",
       "2000-01-04  47648560  \n",
       "2000-01-05  36396207  \n",
       "2000-01-06  70573968  \n",
       "2000-01-07  83453217  \n",
       "...              ...  \n",
       "2023-12-22  14998068  \n",
       "2023-12-26  10153089  \n",
       "2023-12-27  14417646  \n",
       "2023-12-28  16982092  \n",
       "2023-12-29  13221898  \n",
       "\n",
       "[5991 rows x 6 columns]"
      ]
     },
     "execution_count": 57,
     "metadata": {},
     "output_type": "execute_result"
    }
   ],
   "source": [
    "df"
   ]
  },
  {
   "cell_type": "code",
   "execution_count": 58,
   "id": "c5043cbd-e874-43ba-934f-f0a5cef062be",
   "metadata": {},
   "outputs": [
    {
     "data": {
      "text/plain": [
       "Date\n",
       "2000-01-03           NaN\n",
       "2000-01-04           NaN\n",
       "2000-01-05           NaN\n",
       "2000-01-06           NaN\n",
       "2000-01-07           NaN\n",
       "                 ...    \n",
       "2023-12-22    585.495502\n",
       "2023-12-26    585.715502\n",
       "2023-12-27    585.999002\n",
       "2023-12-28    586.394503\n",
       "2023-12-29    586.830502\n",
       "Name: Close, Length: 5991, dtype: float64"
      ]
     },
     "execution_count": 58,
     "metadata": {},
     "output_type": "execute_result"
    }
   ],
   "source": [
    "ma100 = df.Close.rolling(100).mean()\n",
    "ma100"
   ]
  },
  {
   "cell_type": "code",
   "execution_count": 59,
   "id": "c8caf111-8f78-406a-96f2-d415fec59aa8",
   "metadata": {},
   "outputs": [
    {
     "data": {
      "text/plain": [
       "Date\n",
       "2000-01-03          NaN\n",
       "2000-01-04          NaN\n",
       "2000-01-05          NaN\n",
       "2000-01-06          NaN\n",
       "2000-01-07          NaN\n",
       "                ...    \n",
       "2023-12-22    575.53000\n",
       "2023-12-26    576.03675\n",
       "2023-12-27    576.61075\n",
       "2023-12-28    577.06175\n",
       "2023-12-29    577.46350\n",
       "Name: Close, Length: 5991, dtype: float64"
      ]
     },
     "execution_count": 59,
     "metadata": {},
     "output_type": "execute_result"
    }
   ],
   "source": [
    "ma200=df.Close.rolling(200).mean()\n",
    "ma200"
   ]
  },
  {
   "cell_type": "code",
   "execution_count": 60,
   "id": "3df17a36-2b34-461d-9b9b-8f468aa94790",
   "metadata": {},
   "outputs": [
    {
     "data": {
      "text/plain": [
       "[<matplotlib.lines.Line2D at 0x7f920ea4e450>]"
      ]
     },
     "execution_count": 60,
     "metadata": {},
     "output_type": "execute_result"
    },
    {
     "data": {
      "image/png": "[encoded data removed]",
      "text/plain": [
       "<Figure size 1200x600 with 1 Axes>"
      ]
     },
     "metadata": {},
     "output_type": "display_data"
    }
   ],
   "source": [
    "fig=plt.figure(figsize=(12,6))\n",
    "plt.plot(df.Close)\n",
    "plt.plot(ma100, 'r')\n",
    "plt.plot(ma200, 'g')"
   ]
  },
  {
   "cell_type": "code",
   "execution_count": 61,
   "id": "174e038f-d829-43ac-8d75-1d3b354f7969",
   "metadata": {},
   "outputs": [
    {
     "data": {
      "text/plain": [
       "(5991, 6)"
      ]
     },
     "execution_count": 61,
     "metadata": {},
     "output_type": "execute_result"
    }
   ],
   "source": [
    "df.shape"
   ]
  },
  {
   "cell_type": "code",
   "execution_count": 62,
   "id": "bc5d8c20-1c45-46da-a8ec-00175520e71f",
   "metadata": {},
   "outputs": [
    {
     "name": "stdout",
     "output_type": "stream",
     "text": [
      "(5991, 1)\n",
      "(1798, 1)\n"
     ]
    }
   ],
   "source": [
    "data_training = pd.DataFrame(df['Close'][0:int(len(df*0.70))])\n",
    "data_testing = pd.DataFrame(df['Close'][int(len(df)*0.70):int(len(df))])\n",
    "\n",
    "print(data_training.shape)\n",
    "print(data_testing.shape)"
   ]
  },
  {
   "cell_type": "code",
   "execution_count": 63,
   "id": "1800e305-384b-478f-9f95-66917bd5e608",
   "metadata": {},
   "outputs": [],
   "source": [
    "from sklearn.preprocessing import MinMaxScaler\n",
    "scaler = MinMaxScaler(feature_range=(0,1))"
   ]
  },
  {
   "cell_type": "code",
   "execution_count": 64,
   "id": "12e48241-9d47-46af-af98-76f9853a9fc8",
   "metadata": {},
   "outputs": [
    {
     "data": {
      "text/plain": [
       "array([[0.01501865],\n",
       "       [0.01728908],\n",
       "       [0.01572403],\n",
       "       ...,\n",
       "       [0.98933106],\n",
       "       [0.99376999],\n",
       "       [0.9792073 ]])"
      ]
     },
     "execution_count": 64,
     "metadata": {},
     "output_type": "execute_result"
    }
   ],
   "source": [
    "data_training_array = scaler.fit_transform(data_training)\n",
    "data_training_array"
   ]
  },
  {
   "cell_type": "code",
   "execution_count": 65,
   "id": "babe3ec4-f803-421a-bbdf-89232f923c04",
   "metadata": {},
   "outputs": [],
   "source": [
    "x_train = []\n",
    "y_train = []\n",
    "for i in range(100,data_training_array.shape[0]):\n",
    "    x_train.append(data_training_array[i-100:i])\n",
    "    y_train.append(data_training_array[i,0])\n",
    "\n",
    "x_train, y_train = np.array(x_train), np.array(y_train)"
   ]
  },
  {
   "cell_type": "code",
   "execution_count": 66,
   "id": "2e5c13da-57d3-4129-b7a1-659ef01c9feb",
   "metadata": {},
   "outputs": [
    {
     "data": {
      "text/plain": [
       "(5891, 100, 1)"
      ]
     },
     "execution_count": 66,
     "metadata": {},
     "output_type": "execute_result"
    }
   ],
   "source": [
    "x_train.shape"
   ]
  },
  {
   "cell_type": "code",
   "execution_count": 68,
   "id": "7ac4928e-a28f-45b0-af39-f8bc43b58a81",
   "metadata": {},
   "outputs": [],
   "source": [
    "from keras.layers import Dense, Dropout, LSTM\n",
    "from keras.models import Sequential"
   ]
  },
  {
   "cell_type": "code",
   "execution_count": 70,
   "id": "fbb39301-cb09-410b-9653-3ee80934abb7",
   "metadata": {},
   "outputs": [],
   "source": [
    "model = Sequential()\n",
    "model.add(LSTM(units = 50, activation= 'relu', return_sequences=True, input_shape = (x_train.shape[1],1)))\n",
    "model.add(Dropout(0.2))\n",
    "\n",
    "model.add(LSTM(units = 60, activation = 'relu', return_sequences=True))\n",
    "model.add(Dropout(0.3))\n",
    "\n",
    "model.add(LSTM(units = 80, activation = 'relu', return_sequences=True))\n",
    "model.add(Dropout(0.4))\n",
    "\n",
    "model.add(LSTM(units = 120, activation = 'relu'))\n",
    "model.add(Dropout(0.5))\n",
    "\n",
    "model.add(Dense(units=1))"
   ]
  },
  {
   "cell_type": "code",
   "execution_count": 71,
   "id": "a2961a1c-dabc-47fe-b0cb-accbf631165f",
   "metadata": {},
   "outputs": [
    {
     "name": "stdout",
     "output_type": "stream",
     "text": [
      "Model: \"sequential_1\"\n",
      "_________________________________________________________________\n",
      " Layer (type)                Output Shape              Param #   \n",
      "=================================================================\n",
      " lstm_1 (LSTM)               (None, 100, 50)           10400     \n",
      "                                                                 \n",
      " dropout (Dropout)           (None, 100, 50)           0         \n",
      "                                                                 \n",
      " lstm_2 (LSTM)               (None, 100, 60)           26640     \n",
      "                                                                 \n",
      " dropout_1 (Dropout)         (None, 100, 60)           0         \n",
      "                                                                 \n",
      " lstm_3 (LSTM)               (None, 100, 80)           45120     \n",
      "                                                                 \n",
      " dropout_2 (Dropout)         (None, 100, 80)           0         \n",
      "                                                                 \n",
      " lstm_4 (LSTM)               (None, 120)               96480     \n",
      "                                                                 \n",
      " dropout_3 (Dropout)         (None, 120)               0         \n",
      "                                                                 \n",
      " dense (Dense)               (None, 1)                 121       \n",
      "                                                                 \n",
      "=================================================================\n",
      "Total params: 178761 (698.29 KB)\n",
      "Trainable params: 178761 (698.29 KB)\n",
      "Non-trainable params: 0 (0.00 Byte)\n",
      "_________________________________________________________________\n"
     ]
    }
   ],
   "source": [
    "model.summary()"
   ]
  },
  {
   "cell_type": "code",
   "execution_count": 72,
   "id": "d887c404-31b3-4de8-8594-1c1d5dce96bc",
   "metadata": {},
   "outputs": [
    {
     "name": "stdout",
     "output_type": "stream",
     "text": [
      "Epoch 1/50\n",
      "185/185 [==============================] - 19s 84ms/step - loss: 0.0149\n",
      "Epoch 2/50\n",
      "185/185 [==============================] - 20s 110ms/step - loss: 0.0051\n",
      "Epoch 3/50\n",
      "185/185 [==============================] - 22s 116ms/step - loss: 0.0037\n",
      "Epoch 4/50\n",
      "185/185 [==============================] - 21s 115ms/step - loss: 0.0035\n",
      "Epoch 5/50\n",
      "185/185 [==============================] - 21s 114ms/step - loss: 0.0032\n",
      "Epoch 6/50\n",
      "185/185 [==============================] - 21s 115ms/step - loss: 0.0029\n",
      "Epoch 7/50\n",
      "185/185 [==============================] - 21s 115ms/step - loss: 0.0027\n",
      "Epoch 8/50\n",
      "185/185 [==============================] - 21s 115ms/step - loss: 0.0025\n",
      "Epoch 9/50\n",
      "185/185 [==============================] - 21s 115ms/step - loss: 0.0022\n",
      "Epoch 10/50\n",
      "185/185 [==============================] - 21s 114ms/step - loss: 0.0023\n",
      "Epoch 11/50\n",
      "185/185 [==============================] - 21s 116ms/step - loss: 0.0022\n",
      "Epoch 12/50\n",
      "185/185 [==============================] - 22s 118ms/step - loss: 0.0021\n",
      "Epoch 13/50\n",
      "185/185 [==============================] - 22s 117ms/step - loss: 0.0021\n",
      "Epoch 14/50\n",
      "185/185 [==============================] - 30s 162ms/step - loss: 0.0021\n",
      "Epoch 15/50\n",
      "185/185 [==============================] - 29s 157ms/step - loss: 0.0021\n",
      "Epoch 16/50\n",
      "185/185 [==============================] - 24s 130ms/step - loss: 0.0019\n",
      "Epoch 17/50\n",
      "185/185 [==============================] - 24s 130ms/step - loss: 0.0020\n",
      "Epoch 18/50\n",
      "185/185 [==============================] - 24s 131ms/step - loss: 0.0019\n",
      "Epoch 19/50\n",
      "185/185 [==============================] - 24s 130ms/step - loss: 0.0021\n",
      "Epoch 20/50\n",
      "185/185 [==============================] - 22s 119ms/step - loss: 0.0020\n",
      "Epoch 21/50\n",
      "185/185 [==============================] - 22s 117ms/step - loss: 0.0019\n",
      "Epoch 22/50\n",
      "185/185 [==============================] - 23s 122ms/step - loss: 0.0020\n",
      "Epoch 23/50\n",
      "185/185 [==============================] - 22s 118ms/step - loss: 0.0019\n",
      "Epoch 24/50\n",
      "185/185 [==============================] - 22s 118ms/step - loss: 0.0020\n",
      "Epoch 25/50\n",
      "185/185 [==============================] - 22s 118ms/step - loss: 0.0018\n",
      "Epoch 26/50\n",
      "185/185 [==============================] - 22s 119ms/step - loss: 0.0017\n",
      "Epoch 27/50\n",
      "185/185 [==============================] - 22s 121ms/step - loss: 0.0017\n",
      "Epoch 28/50\n",
      "185/185 [==============================] - 22s 120ms/step - loss: 0.0018\n",
      "Epoch 29/50\n",
      "185/185 [==============================] - 22s 119ms/step - loss: 0.0017\n",
      "Epoch 30/50\n",
      "185/185 [==============================] - 22s 119ms/step - loss: 0.0018\n",
      "Epoch 31/50\n",
      "185/185 [==============================] - 22s 118ms/step - loss: 0.0017\n",
      "Epoch 32/50\n",
      "185/185 [==============================] - 29s 154ms/step - loss: 0.0020\n",
      "Epoch 33/50\n",
      "185/185 [==============================] - 34s 183ms/step - loss: 0.0017\n",
      "Epoch 34/50\n",
      "185/185 [==============================] - 38s 207ms/step - loss: 0.0018\n",
      "Epoch 35/50\n",
      "185/185 [==============================] - 38s 207ms/step - loss: 0.0017\n",
      "Epoch 36/50\n",
      "185/185 [==============================] - 38s 207ms/step - loss: 0.0017\n",
      "Epoch 37/50\n",
      "185/185 [==============================] - 38s 206ms/step - loss: 0.0016\n",
      "Epoch 38/50\n",
      "185/185 [==============================] - 38s 206ms/step - loss: 0.0018\n",
      "Epoch 39/50\n",
      "185/185 [==============================] - 38s 206ms/step - loss: 0.0017\n",
      "Epoch 40/50\n",
      "185/185 [==============================] - 39s 211ms/step - loss: 0.0017\n",
      "Epoch 41/50\n",
      "185/185 [==============================] - 45s 242ms/step - loss: 0.0017\n",
      "Epoch 42/50\n",
      "185/185 [==============================] - 44s 240ms/step - loss: 0.0017\n",
      "Epoch 43/50\n",
      "185/185 [==============================] - 44s 238ms/step - loss: 0.0016\n",
      "Epoch 44/50\n",
      "185/185 [==============================] - 19s 102ms/step - loss: 0.0017\n",
      "Epoch 45/50\n",
      "185/185 [==============================] - 23s 123ms/step - loss: 0.0017\n",
      "Epoch 46/50\n",
      "185/185 [==============================] - 25s 135ms/step - loss: 0.0017\n",
      "Epoch 47/50\n",
      "185/185 [==============================] - 21s 114ms/step - loss: 0.0016\n",
      "Epoch 48/50\n",
      "185/185 [==============================] - 21s 114ms/step - loss: 0.0017\n",
      "Epoch 49/50\n",
      "185/185 [==============================] - 21s 114ms/step - loss: 0.0016\n",
      "Epoch 50/50\n",
      "185/185 [==============================] - 21s 115ms/step - loss: 0.0016\n"
     ]
    },
    {
     "data": {
      "text/plain": [
       "<keras.src.callbacks.History at 0x7f920f4cac50>"
      ]
     },
     "execution_count": 72,
     "metadata": {},
     "output_type": "execute_result"
    }
   ],
   "source": [
    "model.compile(optimizer='adam', loss='mean_squared_error')\n",
    "model.fit(x_train, y_train, epochs=50)"
   ]
  },
  {
   "cell_type": "code",
   "execution_count": 73,
   "id": "98cb0db4-edb3-4046-af2a-932e5ac6b127",
   "metadata": {},
   "outputs": [
    {
     "name": "stdout",
     "output_type": "stream",
     "text": [
      "INFO:tensorflow:Assets written to: keras_model/assets\n"
     ]
    },
    {
     "name": "stderr",
     "output_type": "stream",
     "text": [
      "INFO:tensorflow:Assets written to: keras_model/assets\n"
     ]
    }
   ],
   "source": [
    "model.save('keras_model.h5')"
   ]
  },
  {
   "cell_type": "code",
   "execution_count": 74,
   "id": "05783677-8f7b-4f91-89b6-6026fd51b4eb",
   "metadata": {},
   "outputs": [
    {
     "data": {
      "text/html": [
       "<div>\n",
       "<style scoped>\n",
       "    .dataframe tbody tr th:only-of-type {\n",
       "        vertical-align: middle;\n",
       "    }\n",
       "\n",
       "    .dataframe tbody tr th {\n",
       "        vertical-align: top;\n",
       "    }\n",
       "\n",
       "    .dataframe thead th {\n",
       "        text-align: right;\n",
       "    }\n",
       "</style>\n",
       "<table border=\"1\" class=\"dataframe\">\n",
       "  <thead>\n",
       "    <tr style=\"text-align: right;\">\n",
       "      <th></th>\n",
       "      <th>Close</th>\n",
       "    </tr>\n",
       "    <tr>\n",
       "      <th>Date</th>\n",
       "      <th></th>\n",
       "    </tr>\n",
       "  </thead>\n",
       "  <tbody>\n",
       "    <tr>\n",
       "      <th>2016-09-21</th>\n",
       "      <td>251.149994</td>\n",
       "    </tr>\n",
       "    <tr>\n",
       "      <th>2016-09-22</th>\n",
       "      <td>257.899994</td>\n",
       "    </tr>\n",
       "    <tr>\n",
       "      <th>2016-09-23</th>\n",
       "      <td>254.550003</td>\n",
       "    </tr>\n",
       "    <tr>\n",
       "      <th>2016-09-26</th>\n",
       "      <td>251.649994</td>\n",
       "    </tr>\n",
       "    <tr>\n",
       "      <th>2016-09-27</th>\n",
       "      <td>249.000000</td>\n",
       "    </tr>\n",
       "  </tbody>\n",
       "</table>\n",
       "</div>"
      ],
      "text/plain": [
       "                 Close\n",
       "Date                  \n",
       "2016-09-21  251.149994\n",
       "2016-09-22  257.899994\n",
       "2016-09-23  254.550003\n",
       "2016-09-26  251.649994\n",
       "2016-09-27  249.000000"
      ]
     },
     "execution_count": 74,
     "metadata": {},
     "output_type": "execute_result"
    }
   ],
   "source": [
    "data_testing.head()"
   ]
  },
  {
   "cell_type": "code",
   "execution_count": 75,
   "id": "cdc9341d-ced6-4045-b2b5-ccf806b91590",
   "metadata": {},
   "outputs": [
    {
     "data": {
      "text/html": [
       "<div>\n",
       "<style scoped>\n",
       "    .dataframe tbody tr th:only-of-type {\n",
       "        vertical-align: middle;\n",
       "    }\n",
       "\n",
       "    .dataframe tbody tr th {\n",
       "        vertical-align: top;\n",
       "    }\n",
       "\n",
       "    .dataframe thead th {\n",
       "        text-align: right;\n",
       "    }\n",
       "</style>\n",
       "<table border=\"1\" class=\"dataframe\">\n",
       "  <thead>\n",
       "    <tr style=\"text-align: right;\">\n",
       "      <th></th>\n",
       "      <th>Close</th>\n",
       "    </tr>\n",
       "    <tr>\n",
       "      <th>Date</th>\n",
       "      <th></th>\n",
       "    </tr>\n",
       "  </thead>\n",
       "  <tbody>\n",
       "    <tr>\n",
       "      <th>2023-08-03</th>\n",
       "      <td>590.500000</td>\n",
       "    </tr>\n",
       "    <tr>\n",
       "      <th>2023-08-04</th>\n",
       "      <td>573.299988</td>\n",
       "    </tr>\n",
       "    <tr>\n",
       "      <th>2023-08-07</th>\n",
       "      <td>567.900024</td>\n",
       "    </tr>\n",
       "    <tr>\n",
       "      <th>2023-08-08</th>\n",
       "      <td>573.099976</td>\n",
       "    </tr>\n",
       "    <tr>\n",
       "      <th>2023-08-09</th>\n",
       "      <td>573.750000</td>\n",
       "    </tr>\n",
       "    <tr>\n",
       "      <th>...</th>\n",
       "      <td>...</td>\n",
       "    </tr>\n",
       "    <tr>\n",
       "      <th>2023-12-22</th>\n",
       "      <td>636.750000</td>\n",
       "    </tr>\n",
       "    <tr>\n",
       "      <th>2023-12-26</th>\n",
       "      <td>638.049988</td>\n",
       "    </tr>\n",
       "    <tr>\n",
       "      <th>2023-12-27</th>\n",
       "      <td>648.549988</td>\n",
       "    </tr>\n",
       "    <tr>\n",
       "      <th>2023-12-28</th>\n",
       "      <td>651.400024</td>\n",
       "    </tr>\n",
       "    <tr>\n",
       "      <th>2023-12-29</th>\n",
       "      <td>642.049988</td>\n",
       "    </tr>\n",
       "  </tbody>\n",
       "</table>\n",
       "<p>100 rows × 1 columns</p>\n",
       "</div>"
      ],
      "text/plain": [
       "                 Close\n",
       "Date                  \n",
       "2023-08-03  590.500000\n",
       "2023-08-04  573.299988\n",
       "2023-08-07  567.900024\n",
       "2023-08-08  573.099976\n",
       "2023-08-09  573.750000\n",
       "...                ...\n",
       "2023-12-22  636.750000\n",
       "2023-12-26  638.049988\n",
       "2023-12-27  648.549988\n",
       "2023-12-28  651.400024\n",
       "2023-12-29  642.049988\n",
       "\n",
       "[100 rows x 1 columns]"
      ]
     },
     "execution_count": 75,
     "metadata": {},
     "output_type": "execute_result"
    }
   ],
   "source": [
    "data_training.tail(100)"
   ]
  },
  {
   "cell_type": "code",
   "execution_count": 76,
   "id": "b9e77fab-2ff0-43a1-8fa4-89a0067ae988",
   "metadata": {},
   "outputs": [],
   "source": [
    "past_100_days = data_training.tail(100)"
   ]
  },
  {
   "cell_type": "code",
   "execution_count": 83,
   "id": "4c0d7fd0-a9de-40e0-8af3-8d5bf6c7a8b2",
   "metadata": {},
   "outputs": [],
   "source": [
    "final_df = pd.concat([past_100_days, data_testing], ignore_index=True)"
   ]
  },
  {
   "cell_type": "code",
   "execution_count": 84,
   "id": "2bd7792e-13ca-4577-b802-ce324e901f5e",
   "metadata": {},
   "outputs": [
    {
     "data": {
      "text/html": [
       "<div>\n",
       "<style scoped>\n",
       "    .dataframe tbody tr th:only-of-type {\n",
       "        vertical-align: middle;\n",
       "    }\n",
       "\n",
       "    .dataframe tbody tr th {\n",
       "        vertical-align: top;\n",
       "    }\n",
       "\n",
       "    .dataframe thead th {\n",
       "        text-align: right;\n",
       "    }\n",
       "</style>\n",
       "<table border=\"1\" class=\"dataframe\">\n",
       "  <thead>\n",
       "    <tr style=\"text-align: right;\">\n",
       "      <th></th>\n",
       "      <th>Close</th>\n",
       "    </tr>\n",
       "  </thead>\n",
       "  <tbody>\n",
       "    <tr>\n",
       "      <th>0</th>\n",
       "      <td>590.500000</td>\n",
       "    </tr>\n",
       "    <tr>\n",
       "      <th>1</th>\n",
       "      <td>573.299988</td>\n",
       "    </tr>\n",
       "    <tr>\n",
       "      <th>2</th>\n",
       "      <td>567.900024</td>\n",
       "    </tr>\n",
       "    <tr>\n",
       "      <th>3</th>\n",
       "      <td>573.099976</td>\n",
       "    </tr>\n",
       "    <tr>\n",
       "      <th>4</th>\n",
       "      <td>573.750000</td>\n",
       "    </tr>\n",
       "  </tbody>\n",
       "</table>\n",
       "</div>"
      ],
      "text/plain": [
       "        Close\n",
       "0  590.500000\n",
       "1  573.299988\n",
       "2  567.900024\n",
       "3  573.099976\n",
       "4  573.750000"
      ]
     },
     "execution_count": 84,
     "metadata": {},
     "output_type": "execute_result"
    }
   ],
   "source": [
    "final_df.head()"
   ]
  },
  {
   "cell_type": "code",
   "execution_count": 85,
   "id": "9480f193-4aac-4569-b147-0cacf3b68be9",
   "metadata": {},
   "outputs": [
    {
     "data": {
      "text/plain": [
       "array([[0.87137048],\n",
       "       [0.83728068],\n",
       "       [0.82657815],\n",
       "       ...,\n",
       "       [0.98642347],\n",
       "       [0.99207214],\n",
       "       [0.97354071]])"
      ]
     },
     "execution_count": 85,
     "metadata": {},
     "output_type": "execute_result"
    }
   ],
   "source": [
    "input_data = scaler.fit_transform(final_df)\n",
    "input_data"
   ]
  },
  {
   "cell_type": "code",
   "execution_count": 86,
   "id": "c1fe02f1-787a-4235-990d-58715aa8bc4d",
   "metadata": {},
   "outputs": [
    {
     "data": {
      "text/plain": [
       "(1898, 1)"
      ]
     },
     "execution_count": 86,
     "metadata": {},
     "output_type": "execute_result"
    }
   ],
   "source": [
    "input_data.shape"
   ]
  },
  {
   "cell_type": "code",
   "execution_count": 88,
   "id": "22746feb-7154-4448-b45c-c44d5bdb8b82",
   "metadata": {},
   "outputs": [
    {
     "name": "stdout",
     "output_type": "stream",
     "text": [
      "(1798, 100, 1)\n",
      "(1798,)\n"
     ]
    }
   ],
   "source": [
    "x_test = []\n",
    "y_test = []\n",
    "for i in range(100,input_data.shape[0]):\n",
    "    x_test.append(input_data[i-100:i])\n",
    "    y_test.append(input_data[i,0])\n",
    "\n",
    "x_test, y_test = np.array(x_test), np.array(y_test)\n",
    "print(x_test.shape)\n",
    "print(y_test.shape)"
   ]
  },
  {
   "cell_type": "code",
   "execution_count": 91,
   "id": "da24f386-08ab-4c38-875c-360df175eb10",
   "metadata": {},
   "outputs": [
    {
     "name": "stdout",
     "output_type": "stream",
     "text": [
      "57/57 [==============================] - 2s 27ms/step\n"
     ]
    }
   ],
   "source": [
    "y_predicted = model.predict(x_test)"
   ]
  },
  {
   "cell_type": "code",
   "execution_count": 92,
   "id": "34b2bc3d-a456-4cfe-ae13-1cba1251e18a",
   "metadata": {},
   "outputs": [
    {
     "data": {
      "text/plain": [
       "(1798, 1)"
      ]
     },
     "execution_count": 92,
     "metadata": {},
     "output_type": "execute_result"
    }
   ],
   "source": [
    "y_predicted.shape"
   ]
  },
  {
   "cell_type": "code",
   "execution_count": 93,
   "id": "ca44ddb3-9e5b-4ca0-9b36-ed9d8dfb4d08",
   "metadata": {},
   "outputs": [
    {
     "data": {
      "text/plain": [
       "array([[0.9217348 ],\n",
       "       [0.91184914],\n",
       "       [0.8687549 ],\n",
       "       ...,\n",
       "       [0.9212111 ],\n",
       "       [0.91962343],\n",
       "       [0.91987896]], dtype=float32)"
      ]
     },
     "execution_count": 93,
     "metadata": {},
     "output_type": "execute_result"
    }
   ],
   "source": [
    "y_predicted"
   ]
  },
  {
   "cell_type": "code",
   "execution_count": 94,
   "id": "7859ef67-f846-4155-beef-5a8447768456",
   "metadata": {},
   "outputs": [
    {
     "data": {
      "text/plain": [
       "array([0.19879097, 0.21216923, 0.20552967, ..., 0.98642347, 0.99207214,\n",
       "       0.97354071])"
      ]
     },
     "execution_count": 94,
     "metadata": {},
     "output_type": "execute_result"
    }
   ],
   "source": [
    "y_test"
   ]
  },
  {
   "cell_type": "code",
   "execution_count": 95,
   "id": "1258ca9a-98e1-4dc4-98d4-7addade2b43c",
   "metadata": {},
   "outputs": [
    {
     "data": {
      "text/plain": [
       "array([0.00198196])"
      ]
     },
     "execution_count": 95,
     "metadata": {},
     "output_type": "execute_result"
    }
   ],
   "source": [
    "scaler.scale_"
   ]
  },
  {
   "cell_type": "code",
   "execution_count": 97,
   "id": "61f0b8e3-ed87-49ab-9598-73f5dd28c8c7",
   "metadata": {},
   "outputs": [],
   "source": [
    "scale_factor = 1/0.00107175\n",
    "y_predicted = y_predicted * scale_factor\n",
    "y_test = y_test * scale_factor"
   ]
  },
  {
   "cell_type": "code",
   "execution_count": 98,
   "id": "a43a9142-0f86-47ae-82aa-ca1fd59a63de",
   "metadata": {},
   "outputs": [
    {
     "data": {
      "image/png": "[encoded data removed]",
      "text/plain": [
       "<Figure size 1200x600 with 1 Axes>"
      ]
     },
     "metadata": {},
     "output_type": "display_data"
    }
   ],
   "source": [
    "plt.figure(figsize=(12,6))\n",
    "plt.plot(y_test, 'b')\n",
    "plt.plot(y_predicted, 'r')\n",
    "plt.legend(['Original Price', 'Predicted Price'])\n",
    "plt.title(\"Predection Vs Original\")\n",
    "plt.xlabel('Time')\n",
    "plt.ylabel('Price')\n",
    "plt.show()\n"
   ]
  }
 ],
 "metadata": {
  "kernelspec": {
   "display_name": "Python 3 (ipykernel)",
   "language": "python",
   "name": "python3"
  },
  "language_info": {
   "codemirror_mode": {
    "name": "ipython",
    "version": 3
   },
   "file_extension": ".py",
   "mimetype": "text/x-python",
   "name": "python",
   "nbconvert_exporter": "python",
   "pygments_lexer": "ipython3",
   "version": "3.11.7"
  }
 },
 "nbformat": 4,
 "nbformat_minor": 5
}
