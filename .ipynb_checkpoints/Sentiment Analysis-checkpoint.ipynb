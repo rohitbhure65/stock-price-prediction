{
 "cells": [
  {
   "cell_type": "code",
   "execution_count": null,
   "id": "349dddb9-062b-4a80-93f7-e7409ffdf548",
   "metadata": {},
   "outputs": [],
   "source": [
    "import yfinance as yf\n",
    "from textblob import TextBlob\n",
    "\n",
    "def get_stock_data(ticker, start_date, end_date):\n",
    "    stock_data = yf.download(ticker, start=start_date, end=end_date)\n",
    "    return stock_data\n",
    "\n",
    "def analyze_sentiment(text):\n",
    "    analysis = TextBlob(text)\n",
    "    # The sentiment polarity ranges from -1 to 1\n",
    "    return analysis.sentiment.polarity\n",
    "\n",
    "def get_sentiment(ticker, start_date, end_date):\n",
    "    stock_data = get_stock_data(ticker, start_date, end_date)\n",
    "    stock_data['Sentiment'] = stock_data['Close'].pct_change().apply(analyze_sentiment)\n",
    "    return stock_data['Sentiment']\n",
    "\n",
    "# Example usage\n",
    "ticker_symbol = 'AAPL'\n",
    "start_date = '2023-01-01'\n",
    "end_date = '2023-12-31'\n",
    "\n",
    "sentiment_data = get_sentiment(ticker_symbol, start_date, end_date)\n",
    "print(sentiment_data)"
   ]
  }
 ],
 "metadata": {
  "kernelspec": {
   "display_name": "Python 3 (ipykernel)",
   "language": "python",
   "name": "python3"
  },
  "language_info": {
   "codemirror_mode": {
    "name": "ipython",
    "version": 3
   },
   "file_extension": ".py",
   "mimetype": "text/x-python",
   "name": "python",
   "nbconvert_exporter": "python",
   "pygments_lexer": "ipython3",
   "version": "3.11.7"
  }
 },
 "nbformat": 4,
 "nbformat_minor": 5
}
